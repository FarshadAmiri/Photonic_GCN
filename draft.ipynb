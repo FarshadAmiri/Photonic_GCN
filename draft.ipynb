{
 "cells": [
  {
   "cell_type": "code",
   "execution_count": 1,
   "metadata": {},
   "outputs": [],
   "source": [
    "import os ; os.chdir(r\"D:\\Git_repos\\Photonic_GCN\")\n",
    "from constants import edges_table\n",
    "# !pip install torch torch-geometric\n",
    "import torch\n",
    "from torch_geometric.data import Data\n",
    "from torch_geometric.nn import GCNConv\n",
    "import torch.nn.functional as F"
   ]
  },
  {
   "cell_type": "code",
   "execution_count": 2,
   "metadata": {},
   "outputs": [],
   "source": [
    "def edges_table_to_list(edges_table):\n",
    "    edges = []\n",
    "    for key in edges_table.keys():\n",
    "        nodes_list = edges_table[key]\n",
    "        for node in nodes_list:\n",
    "            if ((key, node) not in edges) and ((node, key) not in edges):\n",
    "                edges.append((key, node))\n",
    "    return edges"
   ]
  },
  {
   "cell_type": "code",
   "execution_count": 3,
   "metadata": {},
   "outputs": [
    {
     "name": "stdout",
     "output_type": "stream",
     "text": [
      "107\n",
      "[('N69', 'N70'), ('N70', 'N71'), ('N71', 'N72'), ('N72', 'N73'), ('N73', 'N74'), ('N73', 'N60'), ('N74', 'N60'), ('N74', 'N94'), ('N60', 'N45'), ('N60', 'N46'), ('N60', 'N47'), ('N60', 'N61'), ('N60', 'N75'), ('N41', 'N42'), ('N42', 'N43'), ('N43', 'N44'), ('N44', 'N45'), ('N45', 'N46'), ('N46', 'N33'), ('N87', 'N86'), ('N86', 'N85'), ('N85', 'N84'), ('N84', 'N83'), ('N83', 'N82'), ('N83', 'N68'), ('N82', 'N68'), ('N82', 'N94'), ('N68', 'N55'), ('N68', 'N54'), ('N68', 'N53'), ('N68', 'N67'), ('N68', 'N81'), ('N59', 'N58'), ('N58', 'N57'), ('N57', 'N56'), ('N56', 'N55'), ('N55', 'N54'), ('N54', 'N34'), ('N33', 'N61'), ('N33', 'N47'), ('N33', 'N48'), ('N34', 'N52'), ('N34', 'N53'), ('N34', 'N67'), ('N94', 'N61'), ('N94', 'N75'), ('N94', 'N76'), ('N95', 'N80'), ('N95', 'N81'), ('N95', 'N82'), ('N95', 'N67'), ('N67', 'N81'), ('N67', 'N53'), ('N67', 'N80'), ('N67', 'N66'), ('N67', 'N52'), ('N53', 'N52'), ('N53', 'N66'), ('N81', 'N80'), ('N81', 'N66'), ('N80', 'N79'), ('N80', 'N66'), ('N80', 'N65'), ('N52', 'N51'), ('N52', 'N65'), ('N52', 'N66'), ('N79', 'N78'), ('N79', 'N64'), ('N79', 'N65'), ('N79', 'N66'), ('N51', 'N50'), ('N51', 'N64'), ('N51', 'N65'), ('N51', 'N66'), ('N65', 'N64'), ('N65', 'N78'), ('N65', 'N66'), ('N65', 'N50'), ('N78', 'N77'), ('N78', 'N63'), ('N78', 'N64'), ('N64', 'N63'), ('N64', 'N77'), ('N64', 'N49'), ('N64', 'N50'), ('N50', 'N49'), ('N50', 'N63'), ('N61', 'N75'), ('N61', 'N76'), ('N61', 'N62'), ('N61', 'N48'), ('N61', 'N47'), ('N75', 'N76'), ('N75', 'N62'), ('N47', 'N62'), ('N47', 'N48'), ('N62', 'N76'), ('N62', 'N77'), ('N62', 'N63'), ('N62', 'N49'), ('N62', 'N48'), ('N76', 'N77'), ('N76', 'N63'), ('N48', 'N63'), ('N48', 'N49'), ('N63', 'N77'), ('N63', 'N49')]\n"
     ]
    }
   ],
   "source": [
    "edge_list = edges_table_to_list(edges_table)  # 107 edges\n",
    "print(len(edge_list)) \n",
    "print(edge_list)\n"
   ]
  },
  {
   "cell_type": "code",
   "execution_count": 4,
   "metadata": {},
   "outputs": [
    {
     "name": "stdout",
     "output_type": "stream",
     "text": [
      "['N69', 'N70', 'N71', 'N72', 'N73', 'N74', 'N60', 'N41', 'N42', 'N43', 'N44', 'N45', 'N46', 'N87', 'N86', 'N85', 'N84', 'N83', 'N82', 'N68', 'N59', 'N58', 'N57', 'N56', 'N55', 'N54', 'N33', 'N34', 'N94', 'N95', 'N67', 'N53', 'N81', 'N80', 'N52', 'N79', 'N51', 'N65', 'N66', 'N78', 'N64', 'N50', 'N61', 'N75', 'N47', 'N62', 'N76', 'N48', 'N63', 'N77', 'N49']\n"
     ]
    }
   ],
   "source": [
    "node_names = list(edges_table.keys())  # 51 nodes\n",
    "print(node_names)"
   ]
  },
  {
   "cell_type": "code",
   "execution_count": 6,
   "metadata": {},
   "outputs": [],
   "source": [
    "# Node features (3 features per node)\n",
    "x = torch.randn((51, 3))  # Random initialization of features for simplicity\n",
    "\n",
    "# Convert edge list to indices\n",
    "edge_index = torch.tensor([[node_names.index(u), node_names.index(v)] for u, v in edge_list], dtype=torch.long).t().contiguous()\n",
    "\n",
    "# Network label (one-hot encoded for 37 categories)\n",
    "network_label = torch.randint(0, 37, (1,)).item()\n",
    "y = F.one_hot(torch.tensor(network_label), num_classes=37).float()\n",
    "\n",
    "# Create data object\n",
    "data = Data(x=x, edge_index=edge_index, y=y)"
   ]
  },
  {
   "cell_type": "code",
   "execution_count": null,
   "metadata": {},
   "outputs": [],
   "source": [
    "class GCN(torch.nn.Module):\n",
    "    def __init__(self, in_channels, hidden_channels):\n",
    "        super(GCN, self).__init__()\n",
    "        self.conv1 = GCNConv(in_channels, hidden_channels)\n",
    "        self.conv2 = GCNConv(hidden_channels, 1)  # Output 1 feature per node\n",
    "\n",
    "    def forward(self, data):\n",
    "        x, edge_index = data.x, data.edge_index\n",
    "        x = self.conv1(x, edge_index)\n",
    "        x = F.relu(x)\n",
    "        x = self.conv2(x, edge_index)\n",
    "        return x\n",
    "\n",
    "class Net(torch.nn.Module):\n",
    "    def __init__(self, in_channels, hidden_channels, num_classes):\n",
    "        super(Net, self).__init__()\n",
    "        self.gcn = GCN(in_channels, hidden_channels)\n",
    "        self.fc1 = torch.nn.Linear(51, 128)  # 51 nodes, each with 1 feature from GCN\n",
    "        self.fc2 = torch.nn.Linear(128, num_classes)\n",
    "\n",
    "    def forward(self, data):\n",
    "        x = self.gcn(data)  # GCN output, shape [num_nodes, 1]\n",
    "        x = x.view(1, -1)  # Flatten the node features, shape [1, num_nodes]\n",
    "        x = F.relu(self.fc1(x))\n",
    "        x = self.fc2(x)\n",
    "        return F.log_softmax(x, dim=1)  # Output probabilities\n",
    "\n",
    "# Model parameters\n",
    "in_channels = 3\n",
    "hidden_channels = 16\n",
    "num_classes = 37\n",
    "\n",
    "# Initialize model\n",
    "model = Net(in_channels, hidden_channels, num_classes)\n"
   ]
  },
  {
   "cell_type": "code",
   "execution_count": null,
   "metadata": {},
   "outputs": [],
   "source": [
    "# Loss function and optimizer\n",
    "criterion = torch.nn.CrossEntropyLoss()\n",
    "optimizer = torch.optim.Adam(model.parameters(), lr=0.01)\n",
    "\n",
    "# Training loop\n",
    "def train(data, model, optimizer, criterion, epochs=100):\n",
    "    model.train()\n",
    "    for epoch in range(epochs):\n",
    "        optimizer.zero_grad()\n",
    "        out = model(data)\n",
    "        loss = criterion(out, data.y)\n",
    "        loss.backward()\n",
    "        optimizer.step()\n",
    "        if epoch % 10 == 0:\n",
    "            print(f'Epoch {epoch}, Loss: {loss.item()}')\n",
    "\n",
    "# Training the model\n",
    "train(data, model, optimizer, criterion)\n"
   ]
  }
 ],
 "metadata": {
  "kernelspec": {
   "display_name": "Python 3 (ipykernel)",
   "language": "python",
   "name": "python3"
  },
  "language_info": {
   "codemirror_mode": {
    "name": "ipython",
    "version": 3
   },
   "file_extension": ".py",
   "mimetype": "text/x-python",
   "name": "python",
   "nbconvert_exporter": "python",
   "pygments_lexer": "ipython3",
   "version": "3.12.4"
  }
 },
 "nbformat": 4,
 "nbformat_minor": 2
}
