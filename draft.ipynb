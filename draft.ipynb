{
 "cells": [
  {
   "cell_type": "code",
   "execution_count": 1,
   "metadata": {},
   "outputs": [
    {
     "name": "stdout",
     "output_type": "stream",
     "text": [
      "Using device: cuda\n"
     ]
    }
   ],
   "source": [
    "import os ; os.chdir(r\"D:\\Git_repos\\Photonic_GCN\")\n",
    "from constants import edges_table, nodes_groups\n",
    "# !pip install torch torch-geometric\n",
    "import torch , pandas as pd\n",
    "from torch_geometric.data import Data\n",
    "from torch_geometric.nn import GCNConv\n",
    "import torch.nn.functional as F\n",
    "from torch.utils.data import DataLoader, TensorDataset, random_split\n",
    "import numpy as np\n",
    "from sklearn.preprocessing import MinMaxScaler\n",
    "import matplotlib.pyplot as plt\n",
    "\n",
    "device = torch.device(\"cuda\" if torch.cuda.is_available() else \"cpu\")\n",
    "print(f'Using device: {device}')"
   ]
  },
  {
   "cell_type": "code",
   "execution_count": 2,
   "metadata": {},
   "outputs": [],
   "source": [
    "def edges_table_to_list(edges_table):\n",
    "    edges = []\n",
    "    for key in edges_table.keys():\n",
    "        nodes_list = edges_table[key]\n",
    "        for node in nodes_list:\n",
    "            if ((key, node) not in edges) and ((node, key) not in edges):\n",
    "                edges.append((key, node))\n",
    "    return edges"
   ]
  },
  {
   "cell_type": "code",
   "execution_count": 3,
   "metadata": {},
   "outputs": [
    {
     "name": "stdout",
     "output_type": "stream",
     "text": [
      "107\n",
      "[('N69', 'N70'), ('N70', 'N71'), ('N71', 'N72'), ('N72', 'N73'), ('N73', 'N74'), ('N73', 'N60'), ('N74', 'N60'), ('N74', 'N94'), ('N60', 'N45'), ('N60', 'N46'), ('N60', 'N47'), ('N60', 'N61'), ('N60', 'N75'), ('N41', 'N42'), ('N42', 'N43'), ('N43', 'N44'), ('N44', 'N45'), ('N45', 'N46'), ('N46', 'N33'), ('N87', 'N86'), ('N86', 'N85'), ('N85', 'N84'), ('N84', 'N83'), ('N83', 'N82'), ('N83', 'N68'), ('N82', 'N68'), ('N82', 'N94'), ('N68', 'N55'), ('N68', 'N54'), ('N68', 'N53'), ('N68', 'N67'), ('N68', 'N81'), ('N59', 'N58'), ('N58', 'N57'), ('N57', 'N56'), ('N56', 'N55'), ('N55', 'N54'), ('N54', 'N34'), ('N33', 'N61'), ('N33', 'N47'), ('N33', 'N48'), ('N34', 'N52'), ('N34', 'N53'), ('N34', 'N67'), ('N94', 'N61'), ('N94', 'N75'), ('N94', 'N76'), ('N95', 'N80'), ('N95', 'N81'), ('N95', 'N82'), ('N95', 'N67'), ('N67', 'N81'), ('N67', 'N53'), ('N67', 'N80'), ('N67', 'N66'), ('N67', 'N52'), ('N53', 'N52'), ('N53', 'N66'), ('N81', 'N80'), ('N81', 'N66'), ('N80', 'N79'), ('N80', 'N66'), ('N80', 'N65'), ('N52', 'N51'), ('N52', 'N65'), ('N52', 'N66'), ('N79', 'N78'), ('N79', 'N64'), ('N79', 'N65'), ('N79', 'N66'), ('N51', 'N50'), ('N51', 'N64'), ('N51', 'N65'), ('N51', 'N66'), ('N65', 'N64'), ('N65', 'N78'), ('N65', 'N66'), ('N65', 'N50'), ('N78', 'N77'), ('N78', 'N63'), ('N78', 'N64'), ('N64', 'N63'), ('N64', 'N77'), ('N64', 'N49'), ('N64', 'N50'), ('N50', 'N49'), ('N50', 'N63'), ('N61', 'N75'), ('N61', 'N76'), ('N61', 'N62'), ('N61', 'N48'), ('N61', 'N47'), ('N75', 'N76'), ('N75', 'N62'), ('N47', 'N62'), ('N47', 'N48'), ('N62', 'N76'), ('N62', 'N77'), ('N62', 'N63'), ('N62', 'N49'), ('N62', 'N48'), ('N76', 'N77'), ('N76', 'N63'), ('N48', 'N63'), ('N48', 'N49'), ('N63', 'N77'), ('N63', 'N49')]\n"
     ]
    }
   ],
   "source": [
    "edge_list = edges_table_to_list(edges_table)  # 107 edges\n",
    "print(len(edge_list)) \n",
    "print(edge_list)\n"
   ]
  },
  {
   "cell_type": "code",
   "execution_count": 4,
   "metadata": {},
   "outputs": [
    {
     "name": "stdout",
     "output_type": "stream",
     "text": [
      "['N69', 'N70', 'N71', 'N72', 'N73', 'N74', 'N60', 'N41', 'N42', 'N43', 'N44', 'N45', 'N46', 'N87', 'N86', 'N85', 'N84', 'N83', 'N82', 'N68', 'N59', 'N58', 'N57', 'N56', 'N55', 'N54', 'N33', 'N34', 'N94', 'N95', 'N67', 'N53', 'N81', 'N80', 'N52', 'N79', 'N51', 'N65', 'N66', 'N78', 'N64', 'N50', 'N61', 'N75', 'N47', 'N62', 'N76', 'N48', 'N63', 'N77', 'N49']\n"
     ]
    }
   ],
   "source": [
    "node_names = list(edges_table.keys())  # 51 nodes\n",
    "print(node_names)"
   ]
  },
  {
   "cell_type": "code",
   "execution_count": 5,
   "metadata": {},
   "outputs": [
    {
     "data": {
      "text/plain": [
       "tensor([18])"
      ]
     },
     "execution_count": 5,
     "metadata": {},
     "output_type": "execute_result"
    }
   ],
   "source": [
    "# Node features (3 features per node)\n",
    "x = torch.randn((51, 3))  # Random initialization of features for simplicity\n",
    "\n",
    "# Network label (one-hot encoded for 37 categories)\n",
    "network_label = torch.randint(0, 37, (1,)).item()\n",
    "# y = F.one_hot(torch.tensor(network_label), num_classes=37).float()\n",
    "y = torch.tensor([network_label])\n",
    "y"
   ]
  },
  {
   "cell_type": "code",
   "execution_count": 6,
   "metadata": {},
   "outputs": [
    {
     "name": "stdout",
     "output_type": "stream",
     "text": [
      "torch.Size([51, 3])\n"
     ]
    },
    {
     "data": {
      "text/plain": [
       "tensor([[-1.5804, -0.4566, -0.3652],\n",
       "        [-0.3161,  0.5381, -2.0578],\n",
       "        [-0.7567, -1.2979,  1.1359],\n",
       "        [-0.9482,  1.1340, -0.7911],\n",
       "        [-0.9610, -0.3520, -0.9133],\n",
       "        [ 0.3105, -0.7836, -0.3174],\n",
       "        [-1.0085,  0.4753,  0.3974],\n",
       "        [ 0.0179,  1.1427, -0.8891],\n",
       "        [ 1.0272,  0.6875,  0.0770],\n",
       "        [-0.5854,  0.1603,  0.5870],\n",
       "        [ 0.1541, -0.3508,  0.9868],\n",
       "        [-0.6416,  0.5268, -0.3051],\n",
       "        [-1.2935,  0.5596, -1.4141],\n",
       "        [ 1.5826, -0.5121,  1.4263],\n",
       "        [-0.5377, -0.5720,  0.1958],\n",
       "        [ 0.0113, -1.4670, -0.0227],\n",
       "        [ 0.3234, -0.7941,  0.9367],\n",
       "        [ 1.9053,  0.8447, -0.1444],\n",
       "        [ 0.6550, -0.1499,  1.2379],\n",
       "        [ 0.4321, -0.9464, -0.3223],\n",
       "        [-0.2877, -0.4066, -2.5586],\n",
       "        [-0.8919,  0.2155, -1.0285],\n",
       "        [-0.1306, -1.2175,  3.0869],\n",
       "        [ 0.4385, -0.3481,  0.0102],\n",
       "        [-0.2768, -0.4671,  1.0505],\n",
       "        [-0.5800,  1.0773, -0.0244],\n",
       "        [-1.4004,  1.1923, -0.1207],\n",
       "        [ 0.0398, -0.5451, -0.0809],\n",
       "        [-0.5769,  0.0752,  0.2559],\n",
       "        [-0.6739, -0.3655,  0.3345],\n",
       "        [ 0.9158, -1.3744, -0.6235],\n",
       "        [ 0.1469, -0.1809,  0.3156],\n",
       "        [-0.2223, -1.0891, -1.1285],\n",
       "        [ 0.5311, -0.5627, -1.1559],\n",
       "        [-1.7900, -0.1386, -0.4612],\n",
       "        [-0.2928, -1.5715, -0.8363],\n",
       "        [ 0.5754, -0.1137, -0.3667],\n",
       "        [-2.0181, -0.6570,  1.1862],\n",
       "        [ 0.4439,  0.7138, -0.7968],\n",
       "        [ 1.8395,  0.5016, -0.0057],\n",
       "        [ 1.3037, -0.8445,  0.3692],\n",
       "        [-0.2865, -0.9325,  0.8707],\n",
       "        [ 0.3718, -0.2510,  2.1125],\n",
       "        [-0.0307,  0.6078, -0.1903],\n",
       "        [ 1.4407,  1.6519, -0.1875],\n",
       "        [-0.8186, -0.8327,  0.4978],\n",
       "        [ 0.2235,  0.7923, -0.8358],\n",
       "        [-0.9395,  0.7150,  1.0399],\n",
       "        [-1.1250,  1.1052, -0.8362],\n",
       "        [-0.5379,  0.3774, -0.9883],\n",
       "        [ 1.1170, -0.9709, -1.3997]])"
      ]
     },
     "execution_count": 6,
     "metadata": {},
     "output_type": "execute_result"
    }
   ],
   "source": [
    "print(x.shape)\n",
    "x"
   ]
  },
  {
   "cell_type": "code",
   "execution_count": 7,
   "metadata": {},
   "outputs": [
    {
     "data": {
      "text/plain": [
       "tensor([18])"
      ]
     },
     "execution_count": 7,
     "metadata": {},
     "output_type": "execute_result"
    }
   ],
   "source": [
    "y"
   ]
  },
  {
   "cell_type": "code",
   "execution_count": 8,
   "metadata": {},
   "outputs": [],
   "source": [
    "# Convert edge list to indices\n",
    "edge_index = torch.tensor([[node_names.index(u), node_names.index(v)] for u, v in edge_list], dtype=torch.long).t().contiguous()\n",
    "\n",
    "# Create data object\n",
    "data = Data(x=x, edge_index=edge_index, y=y)"
   ]
  },
  {
   "cell_type": "code",
   "execution_count": 9,
   "metadata": {},
   "outputs": [
    {
     "data": {
      "text/plain": [
       "tensor([[ 0,  1,  2,  3,  4,  4,  5,  5,  6,  6,  6,  6,  6,  7,  8,  9, 10, 11,\n",
       "         12, 13, 14, 15, 16, 17, 17, 18, 18, 19, 19, 19, 19, 19, 20, 21, 22, 23,\n",
       "         24, 25, 26, 26, 26, 27, 27, 27, 28, 28, 28, 29, 29, 29, 29, 30, 30, 30,\n",
       "         30, 30, 31, 31, 32, 32, 33, 33, 33, 34, 34, 34, 35, 35, 35, 35, 36, 36,\n",
       "         36, 36, 37, 37, 37, 37, 39, 39, 39, 40, 40, 40, 40, 41, 41, 42, 42, 42,\n",
       "         42, 42, 43, 43, 44, 44, 45, 45, 45, 45, 45, 46, 46, 47, 47, 48, 48],\n",
       "        [ 1,  2,  3,  4,  5,  6,  6, 28, 11, 12, 44, 42, 43,  8,  9, 10, 11, 12,\n",
       "         26, 14, 15, 16, 17, 18, 19, 19, 28, 24, 25, 31, 30, 32, 21, 22, 23, 24,\n",
       "         25, 27, 42, 44, 47, 34, 31, 30, 42, 43, 46, 33, 32, 18, 30, 32, 31, 33,\n",
       "         38, 34, 34, 38, 33, 38, 35, 38, 37, 36, 37, 38, 39, 40, 37, 38, 41, 40,\n",
       "         37, 38, 40, 39, 38, 41, 49, 48, 40, 48, 49, 50, 41, 50, 48, 43, 46, 45,\n",
       "         47, 44, 46, 45, 45, 47, 46, 49, 48, 50, 47, 49, 48, 48, 50, 49, 50]])"
      ]
     },
     "execution_count": 9,
     "metadata": {},
     "output_type": "execute_result"
    }
   ],
   "source": [
    "edge_index"
   ]
  },
  {
   "cell_type": "code",
   "execution_count": 10,
   "metadata": {},
   "outputs": [],
   "source": [
    "class GCN(torch.nn.Module):\n",
    "    def __init__(self, in_channels, hidden_channels):\n",
    "        super(GCN, self).__init__()\n",
    "        self.conv1 = GCNConv(in_channels, hidden_channels)\n",
    "        self.conv2 = GCNConv(hidden_channels, 1)  # Output 1 feature per node\n",
    "\n",
    "    def forward(self, data):\n",
    "        x, edge_index = data.x, data.edge_index\n",
    "        x = self.conv1(x, edge_index)\n",
    "        x = F.relu(x)\n",
    "        x = self.conv2(x, edge_index)\n",
    "        return x\n",
    "\n",
    "class Net(torch.nn.Module):\n",
    "    def __init__(self, in_channels, hidden_channels, num_classes):\n",
    "        super(Net, self).__init__()\n",
    "        self.gcn = GCN(in_channels, hidden_channels)\n",
    "        self.fc1 = torch.nn.Linear(51, 128)  # 51 nodes, each with 1 feature from GCN\n",
    "        self.fc2 = torch.nn.Linear(128, num_classes)\n",
    "\n",
    "    def forward(self, data):\n",
    "        x = self.gcn(data)  # GCN output, shape [num_nodes, 1]\n",
    "        x = x.view(1, -1)  # Flatten the node features, shape [1, num_nodes]\n",
    "        x = F.relu(self.fc1(x))\n",
    "        x = self.fc2(x)\n",
    "        return F.log_softmax(x, dim=1)  # Output probabilities\n",
    "\n",
    "# Model parameters\n",
    "in_channels = 3\n",
    "hidden_channels = 16\n",
    "num_classes = 37\n",
    "\n",
    "# Initialize model\n",
    "model = Net(in_channels, hidden_channels, num_classes)\n"
   ]
  },
  {
   "cell_type": "code",
   "execution_count": 11,
   "metadata": {},
   "outputs": [
    {
     "name": "stdout",
     "output_type": "stream",
     "text": [
      "Epoch 0, Loss: 3.800077199935913\n",
      "Epoch 10, Loss: 0.0\n",
      "Epoch 20, Loss: 0.0\n",
      "Epoch 30, Loss: 0.0\n",
      "Epoch 40, Loss: 0.0\n",
      "Epoch 50, Loss: 0.0\n",
      "Epoch 60, Loss: 0.0\n",
      "Epoch 70, Loss: 0.0\n",
      "Epoch 80, Loss: 0.0\n",
      "Epoch 90, Loss: 0.0\n"
     ]
    }
   ],
   "source": [
    "# Loss function and optimizer\n",
    "criterion = torch.nn.CrossEntropyLoss()\n",
    "optimizer = torch.optim.Adam(model.parameters(), lr=0.01)\n",
    "\n",
    "# Training loop\n",
    "def train(data, model, optimizer, criterion, epochs=100):\n",
    "    model.train()\n",
    "    for epoch in range(epochs):\n",
    "        optimizer.zero_grad()\n",
    "        out = model(data)\n",
    "        loss = criterion(out, data.y)\n",
    "        loss.backward()\n",
    "        optimizer.step()\n",
    "        if epoch % 10 == 0:\n",
    "            print(f'Epoch {epoch}, Loss: {loss.item()}')\n",
    "\n",
    "# Training the model\n",
    "train(data, model, optimizer, criterion)\n"
   ]
  },
  {
   "cell_type": "code",
   "execution_count": 12,
   "metadata": {},
   "outputs": [
    {
     "data": {
      "text/plain": [
       "Data(x=[51, 3], edge_index=[2, 107], y=[1])"
      ]
     },
     "execution_count": 12,
     "metadata": {},
     "output_type": "execute_result"
    }
   ],
   "source": [
    "data"
   ]
  },
  {
   "cell_type": "markdown",
   "metadata": {},
   "source": [
    "Data preparation"
   ]
  },
  {
   "cell_type": "code",
   "execution_count": 13,
   "metadata": {},
   "outputs": [],
   "source": [
    "BATCH_SIZE = 8"
   ]
  },
  {
   "cell_type": "code",
   "execution_count": 39,
   "metadata": {},
   "outputs": [],
   "source": [
    "df = pd.read_excel('data.xlsx')\n",
    "\n",
    "X = df.iloc[:, :18].values\n",
    "y = df.iloc[:, 18:19].values\n",
    "\n",
    "scaler_X, scaler_y = MinMaxScaler(), MinMaxScaler()\n",
    "X_scaled = scaler_X.fit_transform(X)\n",
    "y_scaled = scaler_y.fit_transform(y)\n",
    "\n",
    "X_tensor = torch.tensor(X_scaled, dtype=torch.float32).to(device)\n",
    "y_tensor = torch.tensor(y_scaled, dtype=torch.float32).to(device)\n",
    "\n",
    "train_size = int(0.7 * len(X_tensor))\n",
    "val_size = int(0.15 * len(X_tensor))\n",
    "test_size = len(X_tensor) - train_size - val_size\n",
    "train_dataset, val_dataset, test_dataset = random_split(TensorDataset(X_tensor, y_tensor), [train_size, val_size, test_size])\n",
    "\n",
    "train_dataloader = DataLoader(train_dataset, batch_size=BATCH_SIZE, shuffle=True)\n",
    "val_dataloader = DataLoader(val_dataset, batch_size=BATCH_SIZE, shuffle=False)\n",
    "test_dataloader = DataLoader(test_dataset, batch_size=BATCH_SIZE, shuffle=False)"
   ]
  },
  {
   "cell_type": "code",
   "execution_count": 42,
   "metadata": {},
   "outputs": [
    {
     "data": {
      "text/plain": [
       "(8015, 18)"
      ]
     },
     "execution_count": 42,
     "metadata": {},
     "output_type": "execute_result"
    }
   ],
   "source": [
    "X.shape"
   ]
  },
  {
   "cell_type": "code",
   "execution_count": 15,
   "metadata": {},
   "outputs": [
    {
     "data": {
      "text/html": [
       "<div>\n",
       "<style scoped>\n",
       "    .dataframe tbody tr th:only-of-type {\n",
       "        vertical-align: middle;\n",
       "    }\n",
       "\n",
       "    .dataframe tbody tr th {\n",
       "        vertical-align: top;\n",
       "    }\n",
       "\n",
       "    .dataframe thead th {\n",
       "        text-align: right;\n",
       "    }\n",
       "</style>\n",
       "<table border=\"1\" class=\"dataframe\">\n",
       "  <thead>\n",
       "    <tr style=\"text-align: right;\">\n",
       "      <th></th>\n",
       "      <th>dx1</th>\n",
       "      <th>dx2</th>\n",
       "      <th>dx3</th>\n",
       "      <th>dx4</th>\n",
       "      <th>dx5</th>\n",
       "      <th>dx6</th>\n",
       "      <th>dy1</th>\n",
       "      <th>dy2</th>\n",
       "      <th>dy3</th>\n",
       "      <th>dy4</th>\n",
       "      <th>...</th>\n",
       "      <th>dy6</th>\n",
       "      <th>dr1</th>\n",
       "      <th>dr2</th>\n",
       "      <th>dr3</th>\n",
       "      <th>dr4</th>\n",
       "      <th>dr5</th>\n",
       "      <th>dr6</th>\n",
       "      <th>Q</th>\n",
       "      <th>t_q_max</th>\n",
       "      <th>lambda_q_max</th>\n",
       "    </tr>\n",
       "  </thead>\n",
       "  <tbody>\n",
       "    <tr>\n",
       "      <th>0</th>\n",
       "      <td>-4.000000e-08</td>\n",
       "      <td>-4.000000e-08</td>\n",
       "      <td>-4.000000e-08</td>\n",
       "      <td>-4.000000e-08</td>\n",
       "      <td>-4.000000e-08</td>\n",
       "      <td>-4.500000e-08</td>\n",
       "      <td>4.000000e-08</td>\n",
       "      <td>4.000000e-08</td>\n",
       "      <td>4.000000e-08</td>\n",
       "      <td>4.000000e-08</td>\n",
       "      <td>...</td>\n",
       "      <td>4.000000e-08</td>\n",
       "      <td>2.500000e-08</td>\n",
       "      <td>2.500000e-08</td>\n",
       "      <td>2.500000e-08</td>\n",
       "      <td>2.500000e-08</td>\n",
       "      <td>2.500000e-08</td>\n",
       "      <td>2.500000e-08</td>\n",
       "      <td>918.130324</td>\n",
       "      <td>0.554622</td>\n",
       "      <td>0.000001</td>\n",
       "    </tr>\n",
       "    <tr>\n",
       "      <th>1</th>\n",
       "      <td>-4.000000e-08</td>\n",
       "      <td>-4.000000e-08</td>\n",
       "      <td>-4.000000e-08</td>\n",
       "      <td>-4.000000e-08</td>\n",
       "      <td>-4.000000e-08</td>\n",
       "      <td>-4.500000e-08</td>\n",
       "      <td>4.000000e-08</td>\n",
       "      <td>4.000000e-08</td>\n",
       "      <td>4.000000e-08</td>\n",
       "      <td>4.000000e-08</td>\n",
       "      <td>...</td>\n",
       "      <td>4.000000e-08</td>\n",
       "      <td>2.500000e-08</td>\n",
       "      <td>2.500000e-08</td>\n",
       "      <td>2.500000e-08</td>\n",
       "      <td>2.500000e-08</td>\n",
       "      <td>2.750000e-08</td>\n",
       "      <td>2.500000e-08</td>\n",
       "      <td>1846.114296</td>\n",
       "      <td>0.682024</td>\n",
       "      <td>0.000001</td>\n",
       "    </tr>\n",
       "    <tr>\n",
       "      <th>2</th>\n",
       "      <td>-4.000000e-08</td>\n",
       "      <td>-4.000000e-08</td>\n",
       "      <td>-4.000000e-08</td>\n",
       "      <td>-4.000000e-08</td>\n",
       "      <td>-4.000000e-08</td>\n",
       "      <td>-4.500000e-08</td>\n",
       "      <td>4.000000e-08</td>\n",
       "      <td>4.000000e-08</td>\n",
       "      <td>4.000000e-08</td>\n",
       "      <td>4.000000e-08</td>\n",
       "      <td>...</td>\n",
       "      <td>4.000000e-08</td>\n",
       "      <td>2.500000e-08</td>\n",
       "      <td>2.500000e-08</td>\n",
       "      <td>2.500000e-08</td>\n",
       "      <td>2.500000e-08</td>\n",
       "      <td>3.000000e-08</td>\n",
       "      <td>2.500000e-08</td>\n",
       "      <td>660.817503</td>\n",
       "      <td>1.089219</td>\n",
       "      <td>0.000002</td>\n",
       "    </tr>\n",
       "    <tr>\n",
       "      <th>3</th>\n",
       "      <td>-4.000000e-08</td>\n",
       "      <td>-4.000000e-08</td>\n",
       "      <td>-4.000000e-08</td>\n",
       "      <td>-4.000000e-08</td>\n",
       "      <td>-4.000000e-08</td>\n",
       "      <td>-4.500000e-08</td>\n",
       "      <td>4.000000e-08</td>\n",
       "      <td>4.000000e-08</td>\n",
       "      <td>4.000000e-08</td>\n",
       "      <td>4.000000e-08</td>\n",
       "      <td>...</td>\n",
       "      <td>4.000000e-08</td>\n",
       "      <td>2.500000e-08</td>\n",
       "      <td>2.500000e-08</td>\n",
       "      <td>2.500000e-08</td>\n",
       "      <td>2.500000e-08</td>\n",
       "      <td>2.750000e-08</td>\n",
       "      <td>2.500000e-08</td>\n",
       "      <td>1846.114296</td>\n",
       "      <td>0.682024</td>\n",
       "      <td>0.000001</td>\n",
       "    </tr>\n",
       "    <tr>\n",
       "      <th>4</th>\n",
       "      <td>-4.000000e-08</td>\n",
       "      <td>-4.000000e-08</td>\n",
       "      <td>-4.000000e-08</td>\n",
       "      <td>-4.000000e-08</td>\n",
       "      <td>-4.000000e-08</td>\n",
       "      <td>-4.500000e-08</td>\n",
       "      <td>3.500000e-08</td>\n",
       "      <td>4.000000e-08</td>\n",
       "      <td>4.000000e-08</td>\n",
       "      <td>4.000000e-08</td>\n",
       "      <td>...</td>\n",
       "      <td>4.000000e-08</td>\n",
       "      <td>2.500000e-08</td>\n",
       "      <td>2.500000e-08</td>\n",
       "      <td>2.500000e-08</td>\n",
       "      <td>2.500000e-08</td>\n",
       "      <td>2.750000e-08</td>\n",
       "      <td>2.500000e-08</td>\n",
       "      <td>1846.114296</td>\n",
       "      <td>0.682024</td>\n",
       "      <td>0.000001</td>\n",
       "    </tr>\n",
       "    <tr>\n",
       "      <th>...</th>\n",
       "      <td>...</td>\n",
       "      <td>...</td>\n",
       "      <td>...</td>\n",
       "      <td>...</td>\n",
       "      <td>...</td>\n",
       "      <td>...</td>\n",
       "      <td>...</td>\n",
       "      <td>...</td>\n",
       "      <td>...</td>\n",
       "      <td>...</td>\n",
       "      <td>...</td>\n",
       "      <td>...</td>\n",
       "      <td>...</td>\n",
       "      <td>...</td>\n",
       "      <td>...</td>\n",
       "      <td>...</td>\n",
       "      <td>...</td>\n",
       "      <td>...</td>\n",
       "      <td>...</td>\n",
       "      <td>...</td>\n",
       "      <td>...</td>\n",
       "    </tr>\n",
       "    <tr>\n",
       "      <th>8010</th>\n",
       "      <td>-4.000000e-08</td>\n",
       "      <td>3.500000e-08</td>\n",
       "      <td>-4.000000e-08</td>\n",
       "      <td>-4.000000e-08</td>\n",
       "      <td>-4.000000e-08</td>\n",
       "      <td>-4.000000e-08</td>\n",
       "      <td>4.000000e-08</td>\n",
       "      <td>4.000000e-08</td>\n",
       "      <td>4.000000e-08</td>\n",
       "      <td>4.000000e-08</td>\n",
       "      <td>...</td>\n",
       "      <td>4.000000e-08</td>\n",
       "      <td>2.500000e-08</td>\n",
       "      <td>2.500000e-08</td>\n",
       "      <td>2.500000e-08</td>\n",
       "      <td>2.500000e-08</td>\n",
       "      <td>2.500000e-08</td>\n",
       "      <td>2.500000e-08</td>\n",
       "      <td>1204.550299</td>\n",
       "      <td>0.521705</td>\n",
       "      <td>0.000001</td>\n",
       "    </tr>\n",
       "    <tr>\n",
       "      <th>8011</th>\n",
       "      <td>-4.000000e-08</td>\n",
       "      <td>4.000000e-08</td>\n",
       "      <td>-4.000000e-08</td>\n",
       "      <td>-4.000000e-08</td>\n",
       "      <td>-4.000000e-08</td>\n",
       "      <td>-4.000000e-08</td>\n",
       "      <td>4.000000e-08</td>\n",
       "      <td>4.000000e-08</td>\n",
       "      <td>4.000000e-08</td>\n",
       "      <td>4.000000e-08</td>\n",
       "      <td>...</td>\n",
       "      <td>4.000000e-08</td>\n",
       "      <td>2.500000e-08</td>\n",
       "      <td>2.500000e-08</td>\n",
       "      <td>2.500000e-08</td>\n",
       "      <td>2.500000e-08</td>\n",
       "      <td>2.500000e-08</td>\n",
       "      <td>2.500000e-08</td>\n",
       "      <td>1306.557266</td>\n",
       "      <td>0.549646</td>\n",
       "      <td>0.000001</td>\n",
       "    </tr>\n",
       "    <tr>\n",
       "      <th>8012</th>\n",
       "      <td>-4.000000e-08</td>\n",
       "      <td>4.500000e-08</td>\n",
       "      <td>-4.000000e-08</td>\n",
       "      <td>-4.000000e-08</td>\n",
       "      <td>-4.000000e-08</td>\n",
       "      <td>-4.000000e-08</td>\n",
       "      <td>4.000000e-08</td>\n",
       "      <td>4.000000e-08</td>\n",
       "      <td>4.000000e-08</td>\n",
       "      <td>4.000000e-08</td>\n",
       "      <td>...</td>\n",
       "      <td>4.000000e-08</td>\n",
       "      <td>2.500000e-08</td>\n",
       "      <td>2.500000e-08</td>\n",
       "      <td>2.500000e-08</td>\n",
       "      <td>2.500000e-08</td>\n",
       "      <td>2.500000e-08</td>\n",
       "      <td>2.500000e-08</td>\n",
       "      <td>618.706366</td>\n",
       "      <td>0.701339</td>\n",
       "      <td>0.000002</td>\n",
       "    </tr>\n",
       "    <tr>\n",
       "      <th>8013</th>\n",
       "      <td>-4.000000e-08</td>\n",
       "      <td>5.000000e-08</td>\n",
       "      <td>-4.000000e-08</td>\n",
       "      <td>-4.000000e-08</td>\n",
       "      <td>-4.000000e-08</td>\n",
       "      <td>-4.000000e-08</td>\n",
       "      <td>4.000000e-08</td>\n",
       "      <td>4.000000e-08</td>\n",
       "      <td>4.000000e-08</td>\n",
       "      <td>4.000000e-08</td>\n",
       "      <td>...</td>\n",
       "      <td>4.000000e-08</td>\n",
       "      <td>2.500000e-08</td>\n",
       "      <td>2.500000e-08</td>\n",
       "      <td>2.500000e-08</td>\n",
       "      <td>2.500000e-08</td>\n",
       "      <td>2.500000e-08</td>\n",
       "      <td>2.500000e-08</td>\n",
       "      <td>610.208722</td>\n",
       "      <td>0.826126</td>\n",
       "      <td>0.000002</td>\n",
       "    </tr>\n",
       "    <tr>\n",
       "      <th>8014</th>\n",
       "      <td>-4.000000e-08</td>\n",
       "      <td>5.500000e-08</td>\n",
       "      <td>-4.000000e-08</td>\n",
       "      <td>-4.000000e-08</td>\n",
       "      <td>-4.000000e-08</td>\n",
       "      <td>-4.000000e-08</td>\n",
       "      <td>4.000000e-08</td>\n",
       "      <td>4.000000e-08</td>\n",
       "      <td>4.000000e-08</td>\n",
       "      <td>4.000000e-08</td>\n",
       "      <td>...</td>\n",
       "      <td>4.000000e-08</td>\n",
       "      <td>2.500000e-08</td>\n",
       "      <td>2.500000e-08</td>\n",
       "      <td>2.500000e-08</td>\n",
       "      <td>2.500000e-08</td>\n",
       "      <td>2.500000e-08</td>\n",
       "      <td>2.500000e-08</td>\n",
       "      <td>597.357924</td>\n",
       "      <td>0.945110</td>\n",
       "      <td>0.000002</td>\n",
       "    </tr>\n",
       "  </tbody>\n",
       "</table>\n",
       "<p>8015 rows × 21 columns</p>\n",
       "</div>"
      ],
      "text/plain": [
       "               dx1           dx2           dx3           dx4           dx5  \\\n",
       "0    -4.000000e-08 -4.000000e-08 -4.000000e-08 -4.000000e-08 -4.000000e-08   \n",
       "1    -4.000000e-08 -4.000000e-08 -4.000000e-08 -4.000000e-08 -4.000000e-08   \n",
       "2    -4.000000e-08 -4.000000e-08 -4.000000e-08 -4.000000e-08 -4.000000e-08   \n",
       "3    -4.000000e-08 -4.000000e-08 -4.000000e-08 -4.000000e-08 -4.000000e-08   \n",
       "4    -4.000000e-08 -4.000000e-08 -4.000000e-08 -4.000000e-08 -4.000000e-08   \n",
       "...            ...           ...           ...           ...           ...   \n",
       "8010 -4.000000e-08  3.500000e-08 -4.000000e-08 -4.000000e-08 -4.000000e-08   \n",
       "8011 -4.000000e-08  4.000000e-08 -4.000000e-08 -4.000000e-08 -4.000000e-08   \n",
       "8012 -4.000000e-08  4.500000e-08 -4.000000e-08 -4.000000e-08 -4.000000e-08   \n",
       "8013 -4.000000e-08  5.000000e-08 -4.000000e-08 -4.000000e-08 -4.000000e-08   \n",
       "8014 -4.000000e-08  5.500000e-08 -4.000000e-08 -4.000000e-08 -4.000000e-08   \n",
       "\n",
       "               dx6           dy1           dy2           dy3           dy4  \\\n",
       "0    -4.500000e-08  4.000000e-08  4.000000e-08  4.000000e-08  4.000000e-08   \n",
       "1    -4.500000e-08  4.000000e-08  4.000000e-08  4.000000e-08  4.000000e-08   \n",
       "2    -4.500000e-08  4.000000e-08  4.000000e-08  4.000000e-08  4.000000e-08   \n",
       "3    -4.500000e-08  4.000000e-08  4.000000e-08  4.000000e-08  4.000000e-08   \n",
       "4    -4.500000e-08  3.500000e-08  4.000000e-08  4.000000e-08  4.000000e-08   \n",
       "...            ...           ...           ...           ...           ...   \n",
       "8010 -4.000000e-08  4.000000e-08  4.000000e-08  4.000000e-08  4.000000e-08   \n",
       "8011 -4.000000e-08  4.000000e-08  4.000000e-08  4.000000e-08  4.000000e-08   \n",
       "8012 -4.000000e-08  4.000000e-08  4.000000e-08  4.000000e-08  4.000000e-08   \n",
       "8013 -4.000000e-08  4.000000e-08  4.000000e-08  4.000000e-08  4.000000e-08   \n",
       "8014 -4.000000e-08  4.000000e-08  4.000000e-08  4.000000e-08  4.000000e-08   \n",
       "\n",
       "      ...           dy6           dr1           dr2           dr3  \\\n",
       "0     ...  4.000000e-08  2.500000e-08  2.500000e-08  2.500000e-08   \n",
       "1     ...  4.000000e-08  2.500000e-08  2.500000e-08  2.500000e-08   \n",
       "2     ...  4.000000e-08  2.500000e-08  2.500000e-08  2.500000e-08   \n",
       "3     ...  4.000000e-08  2.500000e-08  2.500000e-08  2.500000e-08   \n",
       "4     ...  4.000000e-08  2.500000e-08  2.500000e-08  2.500000e-08   \n",
       "...   ...           ...           ...           ...           ...   \n",
       "8010  ...  4.000000e-08  2.500000e-08  2.500000e-08  2.500000e-08   \n",
       "8011  ...  4.000000e-08  2.500000e-08  2.500000e-08  2.500000e-08   \n",
       "8012  ...  4.000000e-08  2.500000e-08  2.500000e-08  2.500000e-08   \n",
       "8013  ...  4.000000e-08  2.500000e-08  2.500000e-08  2.500000e-08   \n",
       "8014  ...  4.000000e-08  2.500000e-08  2.500000e-08  2.500000e-08   \n",
       "\n",
       "               dr4           dr5           dr6            Q   t_q_max  \\\n",
       "0     2.500000e-08  2.500000e-08  2.500000e-08   918.130324  0.554622   \n",
       "1     2.500000e-08  2.750000e-08  2.500000e-08  1846.114296  0.682024   \n",
       "2     2.500000e-08  3.000000e-08  2.500000e-08   660.817503  1.089219   \n",
       "3     2.500000e-08  2.750000e-08  2.500000e-08  1846.114296  0.682024   \n",
       "4     2.500000e-08  2.750000e-08  2.500000e-08  1846.114296  0.682024   \n",
       "...            ...           ...           ...          ...       ...   \n",
       "8010  2.500000e-08  2.500000e-08  2.500000e-08  1204.550299  0.521705   \n",
       "8011  2.500000e-08  2.500000e-08  2.500000e-08  1306.557266  0.549646   \n",
       "8012  2.500000e-08  2.500000e-08  2.500000e-08   618.706366  0.701339   \n",
       "8013  2.500000e-08  2.500000e-08  2.500000e-08   610.208722  0.826126   \n",
       "8014  2.500000e-08  2.500000e-08  2.500000e-08   597.357924  0.945110   \n",
       "\n",
       "      lambda_q_max  \n",
       "0         0.000001  \n",
       "1         0.000001  \n",
       "2         0.000002  \n",
       "3         0.000001  \n",
       "4         0.000001  \n",
       "...            ...  \n",
       "8010      0.000001  \n",
       "8011      0.000001  \n",
       "8012      0.000002  \n",
       "8013      0.000002  \n",
       "8014      0.000002  \n",
       "\n",
       "[8015 rows x 21 columns]"
      ]
     },
     "execution_count": 15,
     "metadata": {},
     "output_type": "execute_result"
    }
   ],
   "source": [
    "df"
   ]
  },
  {
   "cell_type": "code",
   "execution_count": 43,
   "metadata": {},
   "outputs": [
    {
     "data": {
      "text/plain": [
       "918.1303236596783"
      ]
     },
     "execution_count": 43,
     "metadata": {},
     "output_type": "execute_result"
    }
   ],
   "source": [
    "df[\"Q\"][0]"
   ]
  },
  {
   "cell_type": "code",
   "execution_count": 19,
   "metadata": {},
   "outputs": [],
   "source": [
    "nodes2group = dict()\n",
    "\n",
    "for g in nodes_groups:\n",
    "    for node in nodes_groups[g]:\n",
    "        nodes2group[node] = g\n"
   ]
  },
  {
   "cell_type": "code",
   "execution_count": 44,
   "metadata": {},
   "outputs": [
    {
     "name": "stdout",
     "output_type": "stream",
     "text": [
      "(8015, 51, 3)\n",
      "(8015,)\n"
     ]
    }
   ],
   "source": [
    "xs_list = []\n",
    "ys_list = []\n",
    "\n",
    "for n in range(len(df)):\n",
    "    x = np.zeros((51, 3))\n",
    "    y = np.array(df[\"Q\"][n])\n",
    "    for idx, node in enumerate(node_names):\n",
    "        group = nodes2group[node][1:]\n",
    "        node_features = np.array((df[\"dx\" + group][n], df[\"dy\" + group][n], df[\"dr\" + group][n],))\n",
    "        x[idx] = node_features\n",
    "    xs_list.append(x)\n",
    "    ys_list.append(y)\n",
    "\n",
    "data_x = np.stack(xs_list, axis=0)\n",
    "data_y = np.stack(ys_list, axis=0)\n",
    "print(data_x.shape)\n",
    "print(data_y.shape)"
   ]
  },
  {
   "cell_type": "code",
   "execution_count": 45,
   "metadata": {},
   "outputs": [
    {
     "data": {
      "text/plain": [
       "array([ 918.13032366, 1846.11429554,  660.81750282, ...,  618.70636616,\n",
       "        610.20872204,  597.35792412])"
      ]
     },
     "execution_count": 45,
     "metadata": {},
     "output_type": "execute_result"
    }
   ],
   "source": [
    "data_y "
   ]
  },
  {
   "cell_type": "code",
   "execution_count": null,
   "metadata": {},
   "outputs": [],
   "source": []
  },
  {
   "cell_type": "code",
   "execution_count": null,
   "metadata": {},
   "outputs": [],
   "source": []
  }
 ],
 "metadata": {
  "kernelspec": {
   "display_name": "Python 3 (ipykernel)",
   "language": "python",
   "name": "python3"
  },
  "language_info": {
   "codemirror_mode": {
    "name": "ipython",
    "version": 3
   },
   "file_extension": ".py",
   "mimetype": "text/x-python",
   "name": "python",
   "nbconvert_exporter": "python",
   "pygments_lexer": "ipython3",
   "version": "3.12.4"
  }
 },
 "nbformat": 4,
 "nbformat_minor": 2
}
