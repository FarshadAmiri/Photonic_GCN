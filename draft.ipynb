{
 "cells": [
  {
   "cell_type": "code",
   "execution_count": 20,
   "metadata": {},
   "outputs": [],
   "source": [
    "import os ; os.chdir(r\"D:\\Git_repos\\Photonic_GCN\")\n",
    "from constants import edges_table\n"
   ]
  },
  {
   "cell_type": "code",
   "execution_count": 21,
   "metadata": {},
   "outputs": [],
   "source": [
    "def edges_table_to_list(edges_table):\n",
    "    edges = []\n",
    "    for key in edges_table.keys():\n",
    "        nodes_list = edges_table[key]\n",
    "        for node in nodes_list:\n",
    "            if ((key, node) not in edges) and ((node, key) not in edges):\n",
    "                edges.append((key, node))\n",
    "    return edges"
   ]
  },
  {
   "cell_type": "code",
   "execution_count": 22,
   "metadata": {},
   "outputs": [
    {
     "name": "stdout",
     "output_type": "stream",
     "text": [
      "108\n"
     ]
    },
    {
     "data": {
      "text/plain": [
       "[('N69', 'N70'),\n",
       " ('N70', 'N71'),\n",
       " ('N71', 'N72'),\n",
       " ('N72', 'N73'),\n",
       " ('N73', 'N74'),\n",
       " ('N73', 'N60'),\n",
       " ('N74', 'N60'),\n",
       " ('N74', 'N94'),\n",
       " ('N60', 'N45'),\n",
       " ('N60', 'N46'),\n",
       " ('N60', 'N47'),\n",
       " ('N60', 'N61'),\n",
       " ('N60', 'N75'),\n",
       " ('N41', 'N42'),\n",
       " ('N42', 'N43'),\n",
       " ('N43', 'N44'),\n",
       " ('N44', 'N45'),\n",
       " ('N45', 'N46'),\n",
       " ('N46', 'N33'),\n",
       " ('N87', 'N86'),\n",
       " ('N86', 'N85'),\n",
       " ('N85', 'N84'),\n",
       " ('N84', 'N83'),\n",
       " ('N83', 'N82'),\n",
       " ('N83', 'N68'),\n",
       " ('N82', 'N68'),\n",
       " ('N82', 'N94'),\n",
       " ('N68', 'N55'),\n",
       " ('N68', 'N54'),\n",
       " ('N68', 'N53'),\n",
       " ('N68', 'N67'),\n",
       " ('N68', 'N81'),\n",
       " ('N59', 'N58'),\n",
       " ('N58', 'N57'),\n",
       " ('N57', 'N56'),\n",
       " ('N56', 'N55'),\n",
       " ('N55', 'N54'),\n",
       " ('N54', 'N34'),\n",
       " ('N33', 'N61'),\n",
       " ('N33', 'N47'),\n",
       " ('N33', 'N48'),\n",
       " ('N34', 'N52'),\n",
       " ('N34', 'N53'),\n",
       " ('N34', 'N67'),\n",
       " ('N94', 'N61'),\n",
       " ('N94', 'N75'),\n",
       " ('N94', 'N76'),\n",
       " ('N95', 'N80'),\n",
       " ('N95', 'N81'),\n",
       " ('N95', 'N82'),\n",
       " ('N95', 'N67'),\n",
       " ('N67', 'N81'),\n",
       " ('N67', 'N53'),\n",
       " ('N67', 'N80'),\n",
       " ('N67', 'N66'),\n",
       " ('N67', 'N52'),\n",
       " ('N53', 'N52'),\n",
       " ('N53', 'N66'),\n",
       " ('N81', 'N80'),\n",
       " ('N81', 'N66'),\n",
       " ('N80', 'N79'),\n",
       " ('N80', 'N66'),\n",
       " ('N80', 'N65'),\n",
       " ('N52', 'N51'),\n",
       " ('N52', 'N65'),\n",
       " ('N52', 'N66'),\n",
       " ('N79', 'N78'),\n",
       " ('N79', 'N64'),\n",
       " ('N79', 'N65'),\n",
       " ('N79', 'N66'),\n",
       " ('N51', 'N50'),\n",
       " ('N51', 'N64'),\n",
       " ('N51', 'N65'),\n",
       " ('N51', 'N66'),\n",
       " ('N65', 'N64'),\n",
       " ('N65', 'N78'),\n",
       " ('N65', 'N66'),\n",
       " ('N65', 'N50'),\n",
       " ('N78', 'N27'),\n",
       " ('N78', 'N63'),\n",
       " ('N78', 'N64'),\n",
       " ('N64', 'N63'),\n",
       " ('N64', 'N77'),\n",
       " ('N64', 'N49'),\n",
       " ('N64', 'N50'),\n",
       " ('N50', 'N49'),\n",
       " ('N50', 'N63'),\n",
       " ('N61', 'N75'),\n",
       " ('N61', 'N76'),\n",
       " ('N61', 'N62'),\n",
       " ('N61', 'N48'),\n",
       " ('N61', 'N47'),\n",
       " ('N75', 'N76'),\n",
       " ('N75', 'N62'),\n",
       " ('N47', 'N62'),\n",
       " ('N47', 'N48'),\n",
       " ('N62', 'N76'),\n",
       " ('N62', 'N77'),\n",
       " ('N62', 'N63'),\n",
       " ('N62', 'N49'),\n",
       " ('N62', 'N48'),\n",
       " ('N76', 'N77'),\n",
       " ('N76', 'N63'),\n",
       " ('N48', 'N63'),\n",
       " ('N48', 'N49'),\n",
       " ('N63', 'N77'),\n",
       " ('N63', 'N49'),\n",
       " ('N77', 'N78')]"
      ]
     },
     "execution_count": 22,
     "metadata": {},
     "output_type": "execute_result"
    }
   ],
   "source": [
    "edges = edges_table_to_list(edges_table)\n",
    "print(len(edges))\n",
    "edges\n"
   ]
  },
  {
   "cell_type": "code",
   "execution_count": null,
   "metadata": {},
   "outputs": [],
   "source": []
  }
 ],
 "metadata": {
  "kernelspec": {
   "display_name": "Python 3 (ipykernel)",
   "language": "python",
   "name": "python3"
  },
  "language_info": {
   "codemirror_mode": {
    "name": "ipython",
    "version": 3
   },
   "file_extension": ".py",
   "mimetype": "text/x-python",
   "name": "python",
   "nbconvert_exporter": "python",
   "pygments_lexer": "ipython3",
   "version": "3.12.4"
  }
 },
 "nbformat": 4,
 "nbformat_minor": 2
}
